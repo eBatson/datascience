{
 "cells": [
  {
   "cell_type": "code",
   "execution_count": 1,
   "metadata": {},
   "outputs": [
    {
     "data": {
      "text/html": [
       "<script>\n",
       "code_show=true; \n",
       "function code_toggle() {\n",
       " if (code_show){\n",
       " $('div.input').hide();\n",
       " } else {\n",
       " $('div.input').show();\n",
       " }\n",
       " code_show = !code_show\n",
       "} \n",
       "$( document ).ready(code_toggle);\n",
       "</script>\n",
       "<center>\n",
       "<form action=\"javascript:code_toggle()\"><input type=\"submit\" value=\"Show/Hide Code\"></form>"
      ],
      "text/plain": [
       "<IPython.core.display.HTML object>"
      ]
     },
     "execution_count": 1,
     "metadata": {},
     "output_type": "execute_result"
    }
   ],
   "source": [
    "from IPython.display import HTML\n",
    "\n",
    "HTML('''<script>\n",
    "code_show=true; \n",
    "function code_toggle() {\n",
    " if (code_show){\n",
    " $('div.input').hide();\n",
    " } else {\n",
    " $('div.input').show();\n",
    " }\n",
    " code_show = !code_show\n",
    "} \n",
    "$( document ).ready(code_toggle);\n",
    "</script>\n",
    "<center>\n",
    "<form action=\"javascript:code_toggle()\"><input type=\"submit\" value=\"Show/Hide Code\"></form>''')\n"
   ]
  },
  {
   "cell_type": "markdown",
   "metadata": {},
   "source": [
    "Overview\n",
    "===\n",
    "In this script I'll be exploring a Pokemon dataset compiled from Serebii.net with information like base stat totals (the sum of all individual stats for a Pokemon), Pokemon names, height/weight, type, etc.\n",
    "\n",
    "First I'll be cleaning the dataset, then exploring it, then creating a classification model to predict whether a Pokemon with certain traits is a legendary.\n",
    "\n",
    "The button at the top will show/hide code. Hiding makes it like a presentation, while showing lets you see what's going on behind the scenes. If you just care about how I write code, ignore the Markdown cells."
   ]
  },
  {
   "cell_type": "code",
   "execution_count": 2,
   "metadata": {
    "collapsed": true
   },
   "outputs": [],
   "source": [
    "#import always-necessary packages\n",
    "import pandas as pd\n",
    "import numpy as np\n",
    "import matplotlib.pyplot as plt\n",
    "import seaborn as sb\n",
    "\n",
    "sb.set(style = \"darkgrid\", font_scale =1.2)\n",
    "\n",
    "%matplotlib inline"
   ]
  },
  {
   "cell_type": "markdown",
   "metadata": {},
   "source": [
    "Data Cleaning\n",
    "===\n",
    "\n",
    "Cleaning this data involved fixing column titles, checking for invalid (for our purposes) records, and generally checking for dataset issues. Click the *Show Code* button for more details!\n",
    "\n",
    "First we read in the dataset and check the structure."
   ]
  },
  {
   "cell_type": "code",
   "execution_count": 3,
   "metadata": {},
   "outputs": [
    {
     "data": {
      "text/html": [
       "<div>\n",
       "<style>\n",
       "    .dataframe thead tr:only-child th {\n",
       "        text-align: right;\n",
       "    }\n",
       "\n",
       "    .dataframe thead th {\n",
       "        text-align: left;\n",
       "    }\n",
       "\n",
       "    .dataframe tbody tr th {\n",
       "        vertical-align: top;\n",
       "    }\n",
       "</style>\n",
       "<table border=\"1\" class=\"dataframe\">\n",
       "  <thead>\n",
       "    <tr style=\"text-align: right;\">\n",
       "      <th></th>\n",
       "      <th>abilities</th>\n",
       "      <th>against_bug</th>\n",
       "      <th>against_dark</th>\n",
       "      <th>against_dragon</th>\n",
       "      <th>against_electric</th>\n",
       "      <th>against_fairy</th>\n",
       "      <th>against_fight</th>\n",
       "      <th>against_fire</th>\n",
       "      <th>against_flying</th>\n",
       "      <th>against_ghost</th>\n",
       "      <th>...</th>\n",
       "      <th>percentage_male</th>\n",
       "      <th>pokedex_number</th>\n",
       "      <th>sp_attack</th>\n",
       "      <th>sp_defense</th>\n",
       "      <th>speed</th>\n",
       "      <th>type1</th>\n",
       "      <th>type2</th>\n",
       "      <th>weight_kg</th>\n",
       "      <th>generation</th>\n",
       "      <th>is_legendary</th>\n",
       "    </tr>\n",
       "  </thead>\n",
       "  <tbody>\n",
       "    <tr>\n",
       "      <th>0</th>\n",
       "      <td>['Overgrow', 'Chlorophyll']</td>\n",
       "      <td>1.0</td>\n",
       "      <td>1.0</td>\n",
       "      <td>1.0</td>\n",
       "      <td>0.5</td>\n",
       "      <td>0.5</td>\n",
       "      <td>0.5</td>\n",
       "      <td>2.0</td>\n",
       "      <td>2.0</td>\n",
       "      <td>1.0</td>\n",
       "      <td>...</td>\n",
       "      <td>88.1</td>\n",
       "      <td>1</td>\n",
       "      <td>65</td>\n",
       "      <td>65</td>\n",
       "      <td>45</td>\n",
       "      <td>grass</td>\n",
       "      <td>poison</td>\n",
       "      <td>6.9</td>\n",
       "      <td>1</td>\n",
       "      <td>0</td>\n",
       "    </tr>\n",
       "    <tr>\n",
       "      <th>1</th>\n",
       "      <td>['Overgrow', 'Chlorophyll']</td>\n",
       "      <td>1.0</td>\n",
       "      <td>1.0</td>\n",
       "      <td>1.0</td>\n",
       "      <td>0.5</td>\n",
       "      <td>0.5</td>\n",
       "      <td>0.5</td>\n",
       "      <td>2.0</td>\n",
       "      <td>2.0</td>\n",
       "      <td>1.0</td>\n",
       "      <td>...</td>\n",
       "      <td>88.1</td>\n",
       "      <td>2</td>\n",
       "      <td>80</td>\n",
       "      <td>80</td>\n",
       "      <td>60</td>\n",
       "      <td>grass</td>\n",
       "      <td>poison</td>\n",
       "      <td>13.0</td>\n",
       "      <td>1</td>\n",
       "      <td>0</td>\n",
       "    </tr>\n",
       "    <tr>\n",
       "      <th>2</th>\n",
       "      <td>['Overgrow', 'Chlorophyll']</td>\n",
       "      <td>1.0</td>\n",
       "      <td>1.0</td>\n",
       "      <td>1.0</td>\n",
       "      <td>0.5</td>\n",
       "      <td>0.5</td>\n",
       "      <td>0.5</td>\n",
       "      <td>2.0</td>\n",
       "      <td>2.0</td>\n",
       "      <td>1.0</td>\n",
       "      <td>...</td>\n",
       "      <td>88.1</td>\n",
       "      <td>3</td>\n",
       "      <td>122</td>\n",
       "      <td>120</td>\n",
       "      <td>80</td>\n",
       "      <td>grass</td>\n",
       "      <td>poison</td>\n",
       "      <td>100.0</td>\n",
       "      <td>1</td>\n",
       "      <td>0</td>\n",
       "    </tr>\n",
       "    <tr>\n",
       "      <th>3</th>\n",
       "      <td>['Blaze', 'Solar Power']</td>\n",
       "      <td>0.5</td>\n",
       "      <td>1.0</td>\n",
       "      <td>1.0</td>\n",
       "      <td>1.0</td>\n",
       "      <td>0.5</td>\n",
       "      <td>1.0</td>\n",
       "      <td>0.5</td>\n",
       "      <td>1.0</td>\n",
       "      <td>1.0</td>\n",
       "      <td>...</td>\n",
       "      <td>88.1</td>\n",
       "      <td>4</td>\n",
       "      <td>60</td>\n",
       "      <td>50</td>\n",
       "      <td>65</td>\n",
       "      <td>fire</td>\n",
       "      <td>NaN</td>\n",
       "      <td>8.5</td>\n",
       "      <td>1</td>\n",
       "      <td>0</td>\n",
       "    </tr>\n",
       "    <tr>\n",
       "      <th>4</th>\n",
       "      <td>['Blaze', 'Solar Power']</td>\n",
       "      <td>0.5</td>\n",
       "      <td>1.0</td>\n",
       "      <td>1.0</td>\n",
       "      <td>1.0</td>\n",
       "      <td>0.5</td>\n",
       "      <td>1.0</td>\n",
       "      <td>0.5</td>\n",
       "      <td>1.0</td>\n",
       "      <td>1.0</td>\n",
       "      <td>...</td>\n",
       "      <td>88.1</td>\n",
       "      <td>5</td>\n",
       "      <td>80</td>\n",
       "      <td>65</td>\n",
       "      <td>80</td>\n",
       "      <td>fire</td>\n",
       "      <td>NaN</td>\n",
       "      <td>19.0</td>\n",
       "      <td>1</td>\n",
       "      <td>0</td>\n",
       "    </tr>\n",
       "  </tbody>\n",
       "</table>\n",
       "<p>5 rows × 41 columns</p>\n",
       "</div>"
      ],
      "text/plain": [
       "                     abilities  against_bug  against_dark  against_dragon  \\\n",
       "0  ['Overgrow', 'Chlorophyll']          1.0           1.0             1.0   \n",
       "1  ['Overgrow', 'Chlorophyll']          1.0           1.0             1.0   \n",
       "2  ['Overgrow', 'Chlorophyll']          1.0           1.0             1.0   \n",
       "3     ['Blaze', 'Solar Power']          0.5           1.0             1.0   \n",
       "4     ['Blaze', 'Solar Power']          0.5           1.0             1.0   \n",
       "\n",
       "   against_electric  against_fairy  against_fight  against_fire  \\\n",
       "0               0.5            0.5            0.5           2.0   \n",
       "1               0.5            0.5            0.5           2.0   \n",
       "2               0.5            0.5            0.5           2.0   \n",
       "3               1.0            0.5            1.0           0.5   \n",
       "4               1.0            0.5            1.0           0.5   \n",
       "\n",
       "   against_flying  against_ghost      ...       percentage_male  \\\n",
       "0             2.0            1.0      ...                  88.1   \n",
       "1             2.0            1.0      ...                  88.1   \n",
       "2             2.0            1.0      ...                  88.1   \n",
       "3             1.0            1.0      ...                  88.1   \n",
       "4             1.0            1.0      ...                  88.1   \n",
       "\n",
       "   pokedex_number  sp_attack  sp_defense  speed  type1   type2  weight_kg  \\\n",
       "0               1         65          65     45  grass  poison        6.9   \n",
       "1               2         80          80     60  grass  poison       13.0   \n",
       "2               3        122         120     80  grass  poison      100.0   \n",
       "3               4         60          50     65   fire     NaN        8.5   \n",
       "4               5         80          65     80   fire     NaN       19.0   \n",
       "\n",
       "   generation  is_legendary  \n",
       "0           1             0  \n",
       "1           1             0  \n",
       "2           1             0  \n",
       "3           1             0  \n",
       "4           1             0  \n",
       "\n",
       "[5 rows x 41 columns]"
      ]
     },
     "execution_count": 3,
     "metadata": {},
     "output_type": "execute_result"
    }
   ],
   "source": [
    "df = pd.read_csv(\"Data/pokemon.csv\")\n",
    "df.head()"
   ]
  },
  {
   "cell_type": "markdown",
   "metadata": {},
   "source": [
    "The structure of the dataset seems to make sense, although we have no idea of overall dataset size or what all the columns are yet."
   ]
  },
  {
   "cell_type": "code",
   "execution_count": 4,
   "metadata": {},
   "outputs": [
    {
     "name": "stdout",
     "output_type": "stream",
     "text": [
      "(801, 41)\n",
      "Index(['abilities', 'against_bug', 'against_dark', 'against_dragon',\n",
      "       'against_electric', 'against_fairy', 'against_fight', 'against_fire',\n",
      "       'against_flying', 'against_ghost', 'against_grass', 'against_ground',\n",
      "       'against_ice', 'against_normal', 'against_poison', 'against_psychic',\n",
      "       'against_rock', 'against_steel', 'against_water', 'attack',\n",
      "       'base_egg_steps', 'base_happiness', 'base_total', 'capture_rate',\n",
      "       'classfication', 'defense', 'experience_growth', 'height_m', 'hp',\n",
      "       'japanese_name', 'name', 'percentage_male', 'pokedex_number',\n",
      "       'sp_attack', 'sp_defense', 'speed', 'type1', 'type2', 'weight_kg',\n",
      "       'generation', 'is_legendary'],\n",
      "      dtype='object')\n"
     ]
    }
   ],
   "source": [
    "print(df.shape)\n",
    "print(df.columns)"
   ]
  },
  {
   "cell_type": "markdown",
   "metadata": {},
   "source": [
    "We can see that the column names are already detailed and sensible, except one is misspelled! That's a quick fix though."
   ]
  },
  {
   "cell_type": "code",
   "execution_count": 5,
   "metadata": {},
   "outputs": [
    {
     "name": "stdout",
     "output_type": "stream",
     "text": [
      "Index(['abilities', 'against_bug', 'against_dark', 'against_dragon',\n",
      "       'against_electric', 'against_fairy', 'against_fight', 'against_fire',\n",
      "       'against_flying', 'against_ghost', 'against_grass', 'against_ground',\n",
      "       'against_ice', 'against_normal', 'against_poison', 'against_psychic',\n",
      "       'against_rock', 'against_steel', 'against_water', 'attack',\n",
      "       'base_egg_steps', 'base_happiness', 'base_total', 'capture_rate',\n",
      "       'classification', 'defense', 'experience_growth', 'height_m', 'hp',\n",
      "       'japanese_name', 'name', 'percentage_male', 'pokedex_number',\n",
      "       'sp_attack', 'sp_defense', 'speed', 'type1', 'type2', 'weight_kg',\n",
      "       'generation', 'is_legendary'],\n",
      "      dtype='object')\n"
     ]
    }
   ],
   "source": [
    "df.rename(columns = {'classfication':'classification'}, inplace=True)\n",
    "print(df.columns)"
   ]
  },
  {
   "cell_type": "markdown",
   "metadata": {},
   "source": [
    "Although with large datasets we can't spot-check every record, we can still try and find trouble records. One easy way is making sure pandas ingested columns as we expected."
   ]
  },
  {
   "cell_type": "code",
   "execution_count": 6,
   "metadata": {},
   "outputs": [
    {
     "name": "stdout",
     "output_type": "stream",
     "text": [
      "abilities             object\n",
      "against_bug          float64\n",
      "against_dark         float64\n",
      "against_dragon       float64\n",
      "against_electric     float64\n",
      "against_fairy        float64\n",
      "against_fight        float64\n",
      "against_fire         float64\n",
      "against_flying       float64\n",
      "against_ghost        float64\n",
      "against_grass        float64\n",
      "against_ground       float64\n",
      "against_ice          float64\n",
      "against_normal       float64\n",
      "against_poison       float64\n",
      "against_psychic      float64\n",
      "against_rock         float64\n",
      "against_steel        float64\n",
      "against_water        float64\n",
      "attack                 int64\n",
      "base_egg_steps         int64\n",
      "base_happiness         int64\n",
      "base_total             int64\n",
      "capture_rate          object\n",
      "classification        object\n",
      "defense                int64\n",
      "experience_growth      int64\n",
      "height_m             float64\n",
      "hp                     int64\n",
      "japanese_name         object\n",
      "name                  object\n",
      "percentage_male      float64\n",
      "pokedex_number         int64\n",
      "sp_attack              int64\n",
      "sp_defense             int64\n",
      "speed                  int64\n",
      "type1                 object\n",
      "type2                 object\n",
      "weight_kg            float64\n",
      "generation             int64\n",
      "is_legendary           int64\n",
      "dtype: object\n"
     ]
    }
   ],
   "source": [
    "print(df.dtypes)"
   ]
  },
  {
   "cell_type": "markdown",
   "metadata": {},
   "source": [
    "Most dtypes makes sense, except I expected capture_rate to be an int64. To find the records that pandas didn't detect as an int, we can try and convert it to a numeric type.\n",
    "\n",
    "Running *`pd.to_numeric(df.capture_rate)`* yields the error message *`Unable to parse string \"30 (Meteorite)255 (Core)\" at position 773`*. This Pokemon (Minior) has two separate capture_rates, so we can edit the record to just include the core capture rate."
   ]
  },
  {
   "cell_type": "code",
   "execution_count": 7,
   "metadata": {},
   "outputs": [
    {
     "name": "stdout",
     "output_type": "stream",
     "text": [
      "The new capture_rate is 255.\n"
     ]
    }
   ],
   "source": [
    "df.loc[773,\"capture_rate\"] = 255\n",
    "\n",
    "\n",
    "print(\"The new capture_rate is %i.\" %df.loc[773, \"capture_rate\"])"
   ]
  },
  {
   "cell_type": "markdown",
   "metadata": {},
   "source": [
    "Now we have, as far as we can tell, a pretty clean dataset. That means we get to have fun!\n",
    "\n",
    "Data Exploration\n",
    "===\n",
    "\n",
    "First I want to find out which type has the highest stat total, then which Pokemon have the highest stat totals, and finally which type has the greatest overall effectiveness vs. the Pokemon in the dataset."
   ]
  },
  {
   "cell_type": "code",
   "execution_count": 8,
   "metadata": {},
   "outputs": [
    {
     "data": {
      "text/html": [
       "<div>\n",
       "<style>\n",
       "    .dataframe thead tr:only-child th {\n",
       "        text-align: right;\n",
       "    }\n",
       "\n",
       "    .dataframe thead th {\n",
       "        text-align: left;\n",
       "    }\n",
       "\n",
       "    .dataframe tbody tr th {\n",
       "        vertical-align: top;\n",
       "    }\n",
       "</style>\n",
       "<table border=\"1\" class=\"dataframe\">\n",
       "  <thead>\n",
       "    <tr style=\"text-align: right;\">\n",
       "      <th></th>\n",
       "      <th>type1</th>\n",
       "      <th>base_total</th>\n",
       "    </tr>\n",
       "  </thead>\n",
       "  <tbody>\n",
       "    <tr>\n",
       "      <th>2</th>\n",
       "      <td>dragon</td>\n",
       "      <td>522.777778</td>\n",
       "    </tr>\n",
       "    <tr>\n",
       "      <th>16</th>\n",
       "      <td>steel</td>\n",
       "      <td>491.583333</td>\n",
       "    </tr>\n",
       "    <tr>\n",
       "      <th>14</th>\n",
       "      <td>psychic</td>\n",
       "      <td>461.264151</td>\n",
       "    </tr>\n",
       "    <tr>\n",
       "      <th>7</th>\n",
       "      <td>flying</td>\n",
       "      <td>453.333333</td>\n",
       "    </tr>\n",
       "    <tr>\n",
       "      <th>6</th>\n",
       "      <td>fire</td>\n",
       "      <td>450.634615</td>\n",
       "    </tr>\n",
       "    <tr>\n",
       "      <th>1</th>\n",
       "      <td>dark</td>\n",
       "      <td>449.758621</td>\n",
       "    </tr>\n",
       "    <tr>\n",
       "      <th>15</th>\n",
       "      <td>rock</td>\n",
       "      <td>447.266667</td>\n",
       "    </tr>\n",
       "    <tr>\n",
       "      <th>3</th>\n",
       "      <td>electric</td>\n",
       "      <td>436.153846</td>\n",
       "    </tr>\n",
       "    <tr>\n",
       "      <th>8</th>\n",
       "      <td>ghost</td>\n",
       "      <td>434.703704</td>\n",
       "    </tr>\n",
       "    <tr>\n",
       "      <th>11</th>\n",
       "      <td>ice</td>\n",
       "      <td>433.608696</td>\n",
       "    </tr>\n",
       "    <tr>\n",
       "      <th>4</th>\n",
       "      <td>fairy</td>\n",
       "      <td>427.166667</td>\n",
       "    </tr>\n",
       "    <tr>\n",
       "      <th>17</th>\n",
       "      <td>water</td>\n",
       "      <td>426.789474</td>\n",
       "    </tr>\n",
       "    <tr>\n",
       "      <th>10</th>\n",
       "      <td>ground</td>\n",
       "      <td>426.093750</td>\n",
       "    </tr>\n",
       "    <tr>\n",
       "      <th>5</th>\n",
       "      <td>fighting</td>\n",
       "      <td>414.821429</td>\n",
       "    </tr>\n",
       "    <tr>\n",
       "      <th>9</th>\n",
       "      <td>grass</td>\n",
       "      <td>412.576923</td>\n",
       "    </tr>\n",
       "    <tr>\n",
       "      <th>12</th>\n",
       "      <td>normal</td>\n",
       "      <td>401.295238</td>\n",
       "    </tr>\n",
       "    <tr>\n",
       "      <th>13</th>\n",
       "      <td>poison</td>\n",
       "      <td>399.562500</td>\n",
       "    </tr>\n",
       "    <tr>\n",
       "      <th>0</th>\n",
       "      <td>bug</td>\n",
       "      <td>380.430556</td>\n",
       "    </tr>\n",
       "  </tbody>\n",
       "</table>\n",
       "</div>"
      ],
      "text/plain": [
       "       type1  base_total\n",
       "2     dragon  522.777778\n",
       "16     steel  491.583333\n",
       "14   psychic  461.264151\n",
       "7     flying  453.333333\n",
       "6       fire  450.634615\n",
       "1       dark  449.758621\n",
       "15      rock  447.266667\n",
       "3   electric  436.153846\n",
       "8      ghost  434.703704\n",
       "11       ice  433.608696\n",
       "4      fairy  427.166667\n",
       "17     water  426.789474\n",
       "10    ground  426.093750\n",
       "5   fighting  414.821429\n",
       "9      grass  412.576923\n",
       "12    normal  401.295238\n",
       "13    poison  399.562500\n",
       "0        bug  380.430556"
      ]
     },
     "execution_count": 8,
     "metadata": {},
     "output_type": "execute_result"
    }
   ],
   "source": [
    "#Average each type's base stat totals, rank descending\n",
    "\n",
    "base_by_type = df.groupby('type1').base_total.mean().reset_index()\n",
    "base_by_type.sort_values('base_total', ascending=False)"
   ]
  },
  {
   "cell_type": "code",
   "execution_count": 9,
   "metadata": {},
   "outputs": [
    {
     "data": {
      "text/html": [
       "<div>\n",
       "<style>\n",
       "    .dataframe thead tr:only-child th {\n",
       "        text-align: right;\n",
       "    }\n",
       "\n",
       "    .dataframe thead th {\n",
       "        text-align: left;\n",
       "    }\n",
       "\n",
       "    .dataframe tbody tr th {\n",
       "        vertical-align: top;\n",
       "    }\n",
       "</style>\n",
       "<table border=\"1\" class=\"dataframe\">\n",
       "  <thead>\n",
       "    <tr style=\"text-align: right;\">\n",
       "      <th></th>\n",
       "      <th>name</th>\n",
       "      <th>base_total</th>\n",
       "    </tr>\n",
       "  </thead>\n",
       "  <tbody>\n",
       "    <tr>\n",
       "      <th>149</th>\n",
       "      <td>Mewtwo</td>\n",
       "      <td>780</td>\n",
       "    </tr>\n",
       "    <tr>\n",
       "      <th>383</th>\n",
       "      <td>Rayquaza</td>\n",
       "      <td>780</td>\n",
       "    </tr>\n",
       "    <tr>\n",
       "      <th>382</th>\n",
       "      <td>Groudon</td>\n",
       "      <td>770</td>\n",
       "    </tr>\n",
       "    <tr>\n",
       "      <th>381</th>\n",
       "      <td>Kyogre</td>\n",
       "      <td>770</td>\n",
       "    </tr>\n",
       "    <tr>\n",
       "      <th>492</th>\n",
       "      <td>Arceus</td>\n",
       "      <td>720</td>\n",
       "    </tr>\n",
       "    <tr>\n",
       "      <th>717</th>\n",
       "      <td>Zygarde</td>\n",
       "      <td>708</td>\n",
       "    </tr>\n",
       "    <tr>\n",
       "      <th>380</th>\n",
       "      <td>Latios</td>\n",
       "      <td>700</td>\n",
       "    </tr>\n",
       "    <tr>\n",
       "      <th>372</th>\n",
       "      <td>Salamence</td>\n",
       "      <td>700</td>\n",
       "    </tr>\n",
       "    <tr>\n",
       "      <th>247</th>\n",
       "      <td>Tyranitar</td>\n",
       "      <td>700</td>\n",
       "    </tr>\n",
       "    <tr>\n",
       "      <th>444</th>\n",
       "      <td>Garchomp</td>\n",
       "      <td>700</td>\n",
       "    </tr>\n",
       "  </tbody>\n",
       "</table>\n",
       "</div>"
      ],
      "text/plain": [
       "          name  base_total\n",
       "149     Mewtwo         780\n",
       "383   Rayquaza         780\n",
       "382    Groudon         770\n",
       "381     Kyogre         770\n",
       "492     Arceus         720\n",
       "717    Zygarde         708\n",
       "380     Latios         700\n",
       "372  Salamence         700\n",
       "247  Tyranitar         700\n",
       "444   Garchomp         700"
      ]
     },
     "execution_count": 9,
     "metadata": {},
     "output_type": "execute_result"
    }
   ],
   "source": [
    "#Rank base stat totals of all Pokemon in the dataset, take top 10\n",
    "\n",
    "df[['name','base_total']].sort_values('base_total', ascending=False).head(10)"
   ]
  },
  {
   "cell_type": "code",
   "execution_count": 10,
   "metadata": {},
   "outputs": [
    {
     "data": {
      "text/html": [
       "<div>\n",
       "<style>\n",
       "    .dataframe thead tr:only-child th {\n",
       "        text-align: right;\n",
       "    }\n",
       "\n",
       "    .dataframe thead th {\n",
       "        text-align: left;\n",
       "    }\n",
       "\n",
       "    .dataframe tbody tr th {\n",
       "        vertical-align: top;\n",
       "    }\n",
       "</style>\n",
       "<table border=\"1\" class=\"dataframe\">\n",
       "  <thead>\n",
       "    <tr style=\"text-align: right;\">\n",
       "      <th></th>\n",
       "      <th>type</th>\n",
       "      <th>sum</th>\n",
       "    </tr>\n",
       "  </thead>\n",
       "  <tbody>\n",
       "    <tr>\n",
       "      <th>15</th>\n",
       "      <td>against_rock</td>\n",
       "      <td>1001.50</td>\n",
       "    </tr>\n",
       "    <tr>\n",
       "      <th>11</th>\n",
       "      <td>against_ice</td>\n",
       "      <td>967.75</td>\n",
       "    </tr>\n",
       "    <tr>\n",
       "      <th>7</th>\n",
       "      <td>against_flying</td>\n",
       "      <td>955.50</td>\n",
       "    </tr>\n",
       "    <tr>\n",
       "      <th>6</th>\n",
       "      <td>against_fire</td>\n",
       "      <td>909.50</td>\n",
       "    </tr>\n",
       "    <tr>\n",
       "      <th>10</th>\n",
       "      <td>against_ground</td>\n",
       "      <td>879.50</td>\n",
       "    </tr>\n",
       "    <tr>\n",
       "      <th>3</th>\n",
       "      <td>against_electric</td>\n",
       "      <td>860.25</td>\n",
       "    </tr>\n",
       "    <tr>\n",
       "      <th>4</th>\n",
       "      <td>against_fairy</td>\n",
       "      <td>856.25</td>\n",
       "    </tr>\n",
       "    <tr>\n",
       "      <th>5</th>\n",
       "      <td>against_fight</td>\n",
       "      <td>853.50</td>\n",
       "    </tr>\n",
       "    <tr>\n",
       "      <th>17</th>\n",
       "      <td>against_water</td>\n",
       "      <td>847.75</td>\n",
       "    </tr>\n",
       "    <tr>\n",
       "      <th>1</th>\n",
       "      <td>against_dark</td>\n",
       "      <td>846.75</td>\n",
       "    </tr>\n",
       "    <tr>\n",
       "      <th>9</th>\n",
       "      <td>against_grass</td>\n",
       "      <td>828.25</td>\n",
       "    </tr>\n",
       "    <tr>\n",
       "      <th>14</th>\n",
       "      <td>against_psychic</td>\n",
       "      <td>805.25</td>\n",
       "    </tr>\n",
       "    <tr>\n",
       "      <th>0</th>\n",
       "      <td>against_bug</td>\n",
       "      <td>798.00</td>\n",
       "    </tr>\n",
       "    <tr>\n",
       "      <th>8</th>\n",
       "      <td>against_ghost</td>\n",
       "      <td>789.00</td>\n",
       "    </tr>\n",
       "    <tr>\n",
       "      <th>16</th>\n",
       "      <td>against_steel</td>\n",
       "      <td>787.75</td>\n",
       "    </tr>\n",
       "    <tr>\n",
       "      <th>13</th>\n",
       "      <td>against_poison</td>\n",
       "      <td>781.25</td>\n",
       "    </tr>\n",
       "    <tr>\n",
       "      <th>2</th>\n",
       "      <td>against_dragon</td>\n",
       "      <td>776.00</td>\n",
       "    </tr>\n",
       "    <tr>\n",
       "      <th>12</th>\n",
       "      <td>against_normal</td>\n",
       "      <td>710.50</td>\n",
       "    </tr>\n",
       "  </tbody>\n",
       "</table>\n",
       "</div>"
      ],
      "text/plain": [
       "                type      sum\n",
       "15      against_rock  1001.50\n",
       "11       against_ice   967.75\n",
       "7     against_flying   955.50\n",
       "6       against_fire   909.50\n",
       "10    against_ground   879.50\n",
       "3   against_electric   860.25\n",
       "4      against_fairy   856.25\n",
       "5      against_fight   853.50\n",
       "17     against_water   847.75\n",
       "1       against_dark   846.75\n",
       "9      against_grass   828.25\n",
       "14   against_psychic   805.25\n",
       "0        against_bug   798.00\n",
       "8      against_ghost   789.00\n",
       "16     against_steel   787.75\n",
       "13    against_poison   781.25\n",
       "2     against_dragon   776.00\n",
       "12    against_normal   710.50"
      ]
     },
     "execution_count": 10,
     "metadata": {},
     "output_type": "execute_result"
    }
   ],
   "source": [
    "#Filter dataset to just all the \"against\" columns\n",
    "against = df.filter(regex='against.*')\n",
    "\n",
    "#Sum these, name the columns\n",
    "against_sums = against.sum().reset_index()\n",
    "against_sums.columns = ('type','sum')\n",
    "\n",
    "#Rank, show all 18 types\n",
    "against_sums.sort_values('sum', ascending=False, inplace=True)\n",
    "against_sums.head(18)"
   ]
  },
  {
   "cell_type": "markdown",
   "metadata": {
    "collapsed": true
   },
   "source": [
    "Unsurprisingly, *dragon is the type with the highest average base stat total*, with *bug being the lowest*. The preponderance of dragon-type legendaries and the prevalence of completely inconsequential tiny bugs in every generation make this outcome fairly predictable.\n",
    "\n",
    "It's also not surprising that *Mewtwo* sits atop the pile in terms of base stats, but this ranking reveals an unfortunate characteristic of this data-set: it doesn't distinguish between different forms of the same Pokemon-- each Pokemon receives the stats of its highest-stat form. We see \"Groudon\" here when in reality, only \"Primal Groudon\" has a base stat total of 770. We also see \"Salamence,\" \"Tyranitar,\" and \"Garchomp\" in the top 10, when only their Mega Evolutions possess these stat totals. This is something to keep in mind moving forward, but as all legendary Pokemon have further evolutions that are also legendary (Kyogre, Groudon, etc.), I expect this to affect our upcoming model minimally.\n",
    "\n",
    "Finally, we also see that *Rock type is the most effective vs. the entire field of Pokemon*. Given that Rock is super-effective against the extremely prevalent Flying type, as well as Ice, Fire, and Bug (remember all those little bugs from before?), this is not wholly surprising. Way at the bottom we have normal, which is hurt in this ranking both by its 0x multiplier against Ghosts and not being super-effective against any other type.\n",
    "\n",
    "**Other Questions**\n",
    "\n",
    "**(1) It feels like Pokemon got progressively better from generation to generation. Is this true?**\n",
    "\n",
    "One potential way to measure this is the progression of average base stat total-- let's check!"
   ]
  },
  {
   "cell_type": "code",
   "execution_count": 11,
   "metadata": {},
   "outputs": [
    {
     "data": {
      "image/png": "[encoded data removed]",
      "text/plain": [
       "<matplotlib.figure.Figure at 0x10864f3c8>"
      ]
     },
     "metadata": {},
     "output_type": "display_data"
    }
   ],
   "source": [
    "base_by_gen = df.groupby('generation').base_total.mean().reset_index()\n",
    "\n",
    "plt.bar(base_by_gen.generation, base_by_gen.base_total)\n",
    "plt.ylabel('Average Base Stat Total')\n",
    "plt.xlabel('Generation')\n",
    "plt.title('Average Base Stat Total by Generation');"
   ]
  },
  {
   "cell_type": "markdown",
   "metadata": {},
   "source": [
    "Actually, the average base stat total looks very similar from generation to generation, with a small peak at Gen. 4. However, maybe it's just that the top-level competitive Pokemon get better? Let's restrict to top 50 and see how that changes things."
   ]
  },
  {
   "cell_type": "code",
   "execution_count": 12,
   "metadata": {},
   "outputs": [
    {
     "data": {
      "image/png": "[encoded data removed]",
      "text/plain": [
       "<matplotlib.figure.Figure at 0x101ca1ef0>"
      ]
     },
     "metadata": {},
     "output_type": "display_data"
    }
   ],
   "source": [
    "top50_by_gen = df.groupby('generation').base_total.nlargest(50).reset_index()\n",
    "avg_by_gen = top50_by_gen.groupby('generation').mean().reset_index()\n",
    "\n",
    "plt.bar(avg_by_gen.generation, avg_by_gen.base_total)\n",
    "plt.ylabel('Average Base Stat Total (Top 50)')\n",
    "plt.xlabel('Generation')\n",
    "plt.title('Average Base Stat Total (Top 50) by Generation');"
   ]
  },
  {
   "cell_type": "markdown",
   "metadata": {},
   "source": [
    "How about the top 10?"
   ]
  },
  {
   "cell_type": "code",
   "execution_count": 13,
   "metadata": {},
   "outputs": [
    {
     "data": {
      "image/png": "[encoded data removed]",
      "text/plain": [
       "<matplotlib.figure.Figure at 0x101ca16d8>"
      ]
     },
     "metadata": {},
     "output_type": "display_data"
    }
   ],
   "source": [
    "top10_by_gen = df.groupby('generation').base_total.nlargest(10).reset_index()\n",
    "avg_by_gen = top10_by_gen.groupby('generation').mean().reset_index()\n",
    "\n",
    "plt.bar(avg_by_gen.generation, avg_by_gen.base_total)\n",
    "plt.ylabel('Average Base Stat Total (Top 10)')\n",
    "plt.xlabel('Generation')\n",
    "plt.title('Average Base Stat Total (Top 10) by Generation');"
   ]
  },
  {
   "cell_type": "markdown",
   "metadata": {},
   "source": [
    "Now we finally see a generation pull ahead noticeably. Which Pokemon are sitting in this top 10, though?"
   ]
  },
  {
   "cell_type": "code",
   "execution_count": 14,
   "metadata": {},
   "outputs": [
    {
     "data": {
      "text/html": [
       "<div>\n",
       "<style>\n",
       "    .dataframe thead tr:only-child th {\n",
       "        text-align: right;\n",
       "    }\n",
       "\n",
       "    .dataframe thead th {\n",
       "        text-align: left;\n",
       "    }\n",
       "\n",
       "    .dataframe tbody tr th {\n",
       "        vertical-align: top;\n",
       "    }\n",
       "</style>\n",
       "<table border=\"1\" class=\"dataframe\">\n",
       "  <thead>\n",
       "    <tr style=\"text-align: right;\">\n",
       "      <th></th>\n",
       "      <th>name</th>\n",
       "      <th>base_total</th>\n",
       "    </tr>\n",
       "  </thead>\n",
       "  <tbody>\n",
       "    <tr>\n",
       "      <th>383</th>\n",
       "      <td>Rayquaza</td>\n",
       "      <td>780</td>\n",
       "    </tr>\n",
       "    <tr>\n",
       "      <th>382</th>\n",
       "      <td>Groudon</td>\n",
       "      <td>770</td>\n",
       "    </tr>\n",
       "    <tr>\n",
       "      <th>381</th>\n",
       "      <td>Kyogre</td>\n",
       "      <td>770</td>\n",
       "    </tr>\n",
       "    <tr>\n",
       "      <th>375</th>\n",
       "      <td>Metagross</td>\n",
       "      <td>700</td>\n",
       "    </tr>\n",
       "    <tr>\n",
       "      <th>380</th>\n",
       "      <td>Latios</td>\n",
       "      <td>700</td>\n",
       "    </tr>\n",
       "    <tr>\n",
       "      <th>379</th>\n",
       "      <td>Latias</td>\n",
       "      <td>700</td>\n",
       "    </tr>\n",
       "    <tr>\n",
       "      <th>372</th>\n",
       "      <td>Salamence</td>\n",
       "      <td>700</td>\n",
       "    </tr>\n",
       "    <tr>\n",
       "      <th>288</th>\n",
       "      <td>Slaking</td>\n",
       "      <td>670</td>\n",
       "    </tr>\n",
       "    <tr>\n",
       "      <th>259</th>\n",
       "      <td>Swampert</td>\n",
       "      <td>635</td>\n",
       "    </tr>\n",
       "    <tr>\n",
       "      <th>253</th>\n",
       "      <td>Sceptile</td>\n",
       "      <td>630</td>\n",
       "    </tr>\n",
       "  </tbody>\n",
       "</table>\n",
       "</div>"
      ],
      "text/plain": [
       "          name  base_total\n",
       "383   Rayquaza         780\n",
       "382    Groudon         770\n",
       "381     Kyogre         770\n",
       "375  Metagross         700\n",
       "380     Latios         700\n",
       "379     Latias         700\n",
       "372  Salamence         700\n",
       "288    Slaking         670\n",
       "259   Swampert         635\n",
       "253   Sceptile         630"
      ]
     },
     "execution_count": 14,
     "metadata": {},
     "output_type": "execute_result"
    }
   ],
   "source": [
    "df[df[\"generation\"] == 3][[\"name\",\"base_total\"]].sort_values(\n",
    "    \"base_total\", ascending=False).head(10)"
   ]
  },
  {
   "cell_type": "markdown",
   "metadata": {},
   "source": [
    "Looks like the top 3 are what cause Gen. 3 to pull ahead so far. All of the big legendaries of Gen. 3 got \"Primal\" versions, which happen to all be in the top 4 Pokemon overall stat-wise.\n",
    "\n",
    "**(2) How did the type composition change across generations?**"
   ]
  },
  {
   "cell_type": "code",
   "execution_count": 15,
   "metadata": {},
   "outputs": [
    {
     "data": {
      "image/png": "[encoded data removed]",
      "text/plain": [
       "<matplotlib.figure.Figure at 0x1088a7358>"
      ]
     },
     "metadata": {},
     "output_type": "display_data"
    }
   ],
   "source": [
    "type1 = df[['generation','type1']]\n",
    "type1.columns = ['generation','type']\n",
    "type2 = df[['generation','type2']]\n",
    "type2.columns = ['generation','type']\n",
    "all_types = type1.append(type2)\n",
    "\n",
    "all_types.dropna(inplace=True)\n",
    "\n",
    "typelist = sorted(all_types.type.unique())\n",
    "\n",
    "i = 0\n",
    "j = 0\n",
    "\n",
    "fig, axes = plt.subplots(6,3, figsize = (20,20), sharey=True, sharex=True)\n",
    "\n",
    "for item in typelist:\n",
    "    y = 100 * all_types[all_types['type']==item].groupby('generation').count().reset_index()\n",
    "    totals = all_types.groupby('generation').count().reset_index()\n",
    "    totals['perc'] = y['type']/totals['type']\n",
    "    axes[i,j].bar(totals.generation,totals.perc)\n",
    "    axes[i,j].set_title('%s' %item)\n",
    "    if j == 0:\n",
    "        axes[i,j].set_ylabel('% of Pokemon')\n",
    "    if i < 5:\n",
    "        i+=1\n",
    "    else:\n",
    "        axes[i,j].set_xlabel('Generation')\n",
    "        i = 0\n",
    "        j+=1\n",
    "\n",
    "        \n",
    "plt.tight_layout()"
   ]
  },
  {
   "cell_type": "markdown",
   "metadata": {},
   "source": [
    "There are some interesting trends here that I'll mostly leave for visual interpretation (double click on the plots to zoom in), but I will call out how much Gen. 7 hated ice types, and how much Gen. 1 loved poison!"
   ]
  },
  {
   "cell_type": "markdown",
   "metadata": {},
   "source": [
    "**(3) What features define legendary Pokemon?**\n",
    "\n",
    "One of the quickest and most sound ways of seeing what features define a certain classification is to model that classification! Creating a classification model is relatively simple in Python, although we need to be careful with our particular dataset. Anytime one outcome is more likely than the other (here, there are more non-legendaries than legendaries in our dataset), you have an \"imbalanced\" dataset. Because of this, we need to make sure that:\n",
    "a. Our training and testing set both contain entries for the minority class\n",
    "b. Our training and testing set both contain approximately the same proportion of entries for the minority class\n",
    "c. Our model is not just predicting the majority class\n",
    "d. We use modeling methods that can handle imbalanced datasets.\n",
    "\n",
    "Classification\n",
    "===\n",
    "\n",
    "First, we need to get the model ready for classification. Then, we split it into a training and testing set. Here are the shapes of our train and test sets:"
   ]
  },
  {
   "cell_type": "code",
   "execution_count": 78,
   "metadata": {
    "collapsed": true
   },
   "outputs": [],
   "source": [
    "#Get model ready for classification\n",
    "cols = ['attack', 'capture_rate', 'defense', 'experience_growth', 'hp',\n",
    "        'sp_attack', 'sp_defense', 'speed','type1', 'is_legendary']"
   ]
  },
  {
   "cell_type": "code",
   "execution_count": 79,
   "metadata": {},
   "outputs": [
    {
     "name": "stdout",
     "output_type": "stream",
     "text": [
      "Train shape = (560, 27)\n",
      "Test shape = (241, 27)\n"
     ]
    }
   ],
   "source": [
    "#Classification\n",
    "from sklearn.model_selection import train_test_split\n",
    "\n",
    "train, test = train_test_split(pd.get_dummies(df[cols], columns=['type1']),\n",
    "                               test_size = 0.3, random_state = 10)\n",
    "\n",
    "print('Train shape = {}'.format(train.shape))\n",
    "print('Test shape = {}'.format(test.shape))"
   ]
  },
  {
   "cell_type": "markdown",
   "metadata": {},
   "source": [
    "These shapes are as we expect. In an imbalanced dataset, we need to be sure the minority dataset is proportionally represented in the train and test sets..."
   ]
  },
  {
   "cell_type": "code",
   "execution_count": 80,
   "metadata": {},
   "outputs": [
    {
     "name": "stdout",
     "output_type": "stream",
     "text": [
      "Minority class proportion-- train set = 0.082\n",
      "Minority class proportion-- test set = 0.100\n"
     ]
    }
   ],
   "source": [
    "print('Minority class proportion-- train set = %0.3f' %(train[train[\"is_legendary\"]==1].shape[0]/train.shape[0]))\n",
    "print('Minority class proportion-- test set = %0.3f' %(test[test[\"is_legendary\"]==1].shape[0]/test.shape[0]))"
   ]
  },
  {
   "cell_type": "markdown",
   "metadata": {},
   "source": [
    "Luckily, without much attention to our split (there are methods to ensure proper splits with imbalanced data), we have about the same proportion of the minority class in both sets. With that knowledge, let's give Random Forest a try!\n",
    "\n",
    "First, I'll train the classifier on the training set and make sure it predicts both 1 and 0. Second, I'll check the accuracy score on the prediction set and plot the feature importances. This will tell us what our classifier thinks is important."
   ]
  },
  {
   "cell_type": "code",
   "execution_count": 81,
   "metadata": {
    "collapsed": true
   },
   "outputs": [],
   "source": [
    "from sklearn.ensemble import RandomForestClassifier\n",
    "\n",
    "y = train.is_legendary\n",
    "X = train.drop('is_legendary', axis=1)\n",
    "\n",
    "clf = RandomForestClassifier(random_state = 10)\n",
    "clf.fit(X,y)\n",
    "pred_y = clf.predict(X)"
   ]
  },
  {
   "cell_type": "code",
   "execution_count": 82,
   "metadata": {},
   "outputs": [
    {
     "name": "stdout",
     "output_type": "stream",
     "text": [
      "Our classifier predicts both values: [0 1]\n"
     ]
    }
   ],
   "source": [
    "print('Our classifier predicts both values: {}'.format(np.unique(pred_y)))"
   ]
  },
  {
   "cell_type": "code",
   "execution_count": 83,
   "metadata": {},
   "outputs": [
    {
     "name": "stdout",
     "output_type": "stream",
     "text": [
      "Train set accuracy score: 0.996\n"
     ]
    },
    {
     "data": {
      "image/png": "[encoded data removed]",
      "text/plain": [
       "<matplotlib.figure.Figure at 0x1a15272fd0>"
      ]
     },
     "metadata": {},
     "output_type": "display_data"
    }
   ],
   "source": [
    "from sklearn.metrics import accuracy_score\n",
    "print('Train set accuracy score: %0.3f' %accuracy_score(y, pred_y))\n",
    "\n",
    "featuresdict = {\"feature\":X.columns, \"importance\":list(clf.feature_importances_)}\n",
    "featuresdf = pd.DataFrame.from_dict(featuresdict)\n",
    "featuresdf.sort_values(\"importance\", ascending=False, inplace = True)\n",
    "\n",
    "fig, ax = plt.subplots(figsize = (15,7), )\n",
    "ax.set_title(\"Importance of Variables in Classification Model\")\n",
    "ax.bar(np.arange(len(featuresdf)), featuresdf.importance)\n",
    "ax.set_xticks(np.arange(len(list(featuresdf.values))))\n",
    "ax.set_xticklabels(featuresdf.feature, rotation = 70)\n",
    "ax.set_ylabel(\"Feature Importance\");"
   ]
  },
  {
   "cell_type": "markdown",
   "metadata": {},
   "source": [
    "It looks like the classifier sees capture_rate and experience_growth as the strongest predictors of legendary status. I likely could have told you this before we started-- legendaries are harder to capture and level up slower. It's part of the game! But it's good to see that our classifier fits our intution, as our intuition should be dead on for this kind of simple classification with pre-programmed inputs.\n",
    "\n",
    "However, we don't know how well this model applies to data it hasn't seen yet. Let's check!"
   ]
  },
  {
   "cell_type": "code",
   "execution_count": 84,
   "metadata": {
    "collapsed": true
   },
   "outputs": [],
   "source": [
    "y_test = test.is_legendary\n",
    "X_test = test.drop('is_legendary', axis = 1)\n",
    "\n",
    "\n",
    "X_test.shape\n",
    "\n",
    "pred_test_y = clf.predict(X_test)"
   ]
  },
  {
   "cell_type": "code",
   "execution_count": 85,
   "metadata": {},
   "outputs": [
    {
     "name": "stdout",
     "output_type": "stream",
     "text": [
      "Our classifier predicts both values: [0 1]\n",
      "It has an accuracy score of 0.9585062240663901\n"
     ]
    }
   ],
   "source": [
    "print('Our classifier predicts both values: {}'.format(np.unique(pred_test_y)))\n",
    "print('It has an accuracy score of {}'.format(accuracy_score(y_test, pred_test_y)))"
   ]
  },
  {
   "cell_type": "markdown",
   "metadata": {},
   "source": [
    "We see a great accuracy score, which is a good first step. However, accuracy score means the most when the two outcomes are approximately equally represented. In an imbalanced dataset, we can check other metrics-- like the ROC AUC score."
   ]
  },
  {
   "cell_type": "code",
   "execution_count": 86,
   "metadata": {},
   "outputs": [
    {
     "name": "stdout",
     "output_type": "stream",
     "text": [
      "Our ROC AUC Score is 0.987\n"
     ]
    },
    {
     "data": {
      "image/png": "[encoded data removed]",
      "text/plain": [
       "<matplotlib.figure.Figure at 0x1a152509e8>"
      ]
     },
     "metadata": {},
     "output_type": "display_data"
    }
   ],
   "source": [
    "from sklearn import metrics\n",
    "\n",
    "fpr, tpr, _ = metrics.roc_curve(y_test, clf.predict_proba(X_test)[:,1])\n",
    "\n",
    "roc_auc = metrics.auc(fpr, tpr)\n",
    "\n",
    "\n",
    "plt.title(\"ROC Curve for Classifier\")\n",
    "plt.xlabel(\"FPR\")\n",
    "plt.ylabel(\"TPR\")\n",
    "plt.plot(fpr, tpr, label='ROC Curve (AUC = %0.3f)' % roc_auc)\n",
    "plt.plot([0,1],[0,1],'--')\n",
    "plt.legend()\n",
    "\n",
    "print('Our ROC AUC Score is %0.3f' %roc_auc)"
   ]
  },
  {
   "cell_type": "markdown",
   "metadata": {},
   "source": [
    "This great of a ROC AUC Score leads us to believe that our classifier really did work as intended, and is predicting legendaries extremely well.  "
   ]
  },
  {
   "cell_type": "code",
   "execution_count": null,
   "metadata": {
    "collapsed": true
   },
   "outputs": [],
   "source": []
  }
 ],
 "metadata": {
  "kernelspec": {
   "display_name": "Python 3",
   "language": "python",
   "name": "python3"
  },
  "language_info": {
   "codemirror_mode": {
    "name": "ipython",
    "version": 3
   },
   "file_extension": ".py",
   "mimetype": "text/x-python",
   "name": "python",
   "nbconvert_exporter": "python",
   "pygments_lexer": "ipython3",
   "version": "3.6.1"
  }
 },
 "nbformat": 4,
 "nbformat_minor": 2
}
